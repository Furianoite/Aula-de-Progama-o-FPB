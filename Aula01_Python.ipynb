{
  "nbformat": 4,
  "nbformat_minor": 0,
  "metadata": {
    "colab": {
      "provenance": [],
      "authorship_tag": "ABX9TyPKAH2FokW7LmGDkPIqR8oY",
      "include_colab_link": true
    },
    "kernelspec": {
      "name": "python3",
      "display_name": "Python 3"
    },
    "language_info": {
      "name": "python"
    }
  },
  "cells": [
    {
      "cell_type": "markdown",
      "metadata": {
        "id": "view-in-github",
        "colab_type": "text"
      },
      "source": [
        "<a href=\"https://colab.research.google.com/github/Furianoite/Aula-de-Progama-o-FPB/blob/main/Aula01_Python.ipynb\" target=\"_parent\"><img src=\"https://colab.research.google.com/assets/colab-badge.svg\" alt=\"Open In Colab\"/></a>"
      ]
    },
    {
      "cell_type": "code",
      "execution_count": 6,
      "metadata": {
        "colab": {
          "base_uri": "https://localhost:8080/"
        },
        "id": "imko4-fPuvFM",
        "outputId": "1508f617-5c73-4713-916e-5eb281fb6bfd"
      },
      "outputs": [
        {
          "output_type": "stream",
          "name": "stdout",
          "text": [
            "Eu vou editar tudo do meu jeito!\n"
          ]
        }
      ],
      "source": [
        "print(\"Eu vou editar tudo do meu jeito!\")"
      ]
    },
    {
      "cell_type": "code",
      "source": [
        "#Variáveis\n",
        "nome = \"Caio Alex\"\n",
        "print(nome)"
      ],
      "metadata": {
        "colab": {
          "base_uri": "https://localhost:8080/"
        },
        "id": "kRd3MXZMwq77",
        "outputId": "2cb875f4-2db5-40ee-87ad-faf4d2abd85b"
      },
      "execution_count": 5,
      "outputs": [
        {
          "output_type": "stream",
          "name": "stdout",
          "text": [
            "Caio Alex\n"
          ]
        }
      ]
    },
    {
      "cell_type": "code",
      "source": [
        "#Operações com variáveis\n",
        "a = 20\n",
        "b = 35\n",
        "soma = a + b\n",
        "subtração = a - b\n",
        "divisão = a / b \n",
        "multipli = a * b"
      ],
      "metadata": {
        "id": "pMZTmRtCxAhG"
      },
      "execution_count": 2,
      "outputs": []
    },
    {
      "cell_type": "code",
      "source": [
        "print(soma)\n",
        "print(subtração)\n",
        "print(divisão)\n",
        "print(multipli)"
      ],
      "metadata": {
        "id": "HIa1Hyq_xkxn"
      },
      "execution_count": null,
      "outputs": []
    },
    {
      "cell_type": "markdown",
      "source": [
        "eu sou o novo eren!"
      ],
      "metadata": {
        "id": "orGrr17uvzvS"
      }
    },
    {
      "cell_type": "markdown",
      "source": [],
      "metadata": {
        "id": "nVz13wsNzdDI"
      }
    },
    {
      "cell_type": "code",
      "source": [
        "#Dobro\n",
        "nube = 35\n",
        "print(nube * 2)"
      ],
      "metadata": {
        "colab": {
          "base_uri": "https://localhost:8080/"
        },
        "id": "mPM2ygkIzd6h",
        "outputId": "77470a7d-0c17-4c64-f8a1-12ff6a6281d3"
      },
      "execution_count": 8,
      "outputs": [
        {
          "output_type": "stream",
          "name": "stdout",
          "text": [
            "70\n"
          ]
        }
      ]
    },
    {
      "cell_type": "code",
      "source": [
        "#Media\n",
        "n1 = 9\n",
        "n2 = 7.5\n",
        "n3 = 4.4\n",
        "media = (n1+n2+n3)/3\n",
        "print(media)"
      ],
      "metadata": {
        "colab": {
          "base_uri": "https://localhost:8080/"
        },
        "id": "x9pos3XN1dY4",
        "outputId": "c369df42-121f-45cb-f435-cfd4b559d999"
      },
      "execution_count": 7,
      "outputs": [
        {
          "output_type": "stream",
          "name": "stdout",
          "text": [
            "6.966666666666666\n"
          ]
        }
      ]
    },
    {
      "cell_type": "code",
      "source": [
        "#Calcule idade\n",
        "anoNasc = 1962\n",
        "print(2023 - 1962)"
      ],
      "metadata": {
        "colab": {
          "base_uri": "https://localhost:8080/"
        },
        "id": "bF-ASDf318-1",
        "outputId": "5944bad5-e950-4acd-ed45-a92fc9769a69"
      },
      "execution_count": 9,
      "outputs": [
        {
          "output_type": "stream",
          "name": "stdout",
          "text": [
            "61\n"
          ]
        }
      ]
    },
    {
      "cell_type": "code",
      "source": [
        "#trabalhando INPUTS\n",
        "nome = input('Digite seu nome ')\n",
        "print('Olá  '+nome)"
      ],
      "metadata": {
        "colab": {
          "base_uri": "https://localhost:8080/"
        },
        "id": "0dQMNc6M2WQn",
        "outputId": "a13f9192-d0dc-4c34-dc4c-3a1f33171c3b"
      },
      "execution_count": 16,
      "outputs": [
        {
          "output_type": "stream",
          "name": "stdout",
          "text": [
            "Digite seu nome Caio\n",
            "Olá  Caio\n"
          ]
        }
      ]
    },
    {
      "cell_type": "code",
      "source": [
        "#Pede um número e multiplica por 3\n",
        "nube = int(input('Digita ai, meu pcr!'))\n",
        "print(nube*3)\n"
      ],
      "metadata": {
        "colab": {
          "base_uri": "https://localhost:8080/"
        },
        "id": "bFOeA7Tx4mpd",
        "outputId": "cb21aa99-1e2f-413b-940e-f1c716897c99"
      },
      "execution_count": 17,
      "outputs": [
        {
          "output_type": "stream",
          "name": "stdout",
          "text": [
            "Digita ai, meu pcr!53\n",
            "159\n"
          ]
        }
      ]
    }
  ]
}
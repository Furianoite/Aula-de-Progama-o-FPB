{
  "nbformat": 4,
  "nbformat_minor": 0,
  "metadata": {
    "colab": {
      "provenance": [],
      "authorship_tag": "ABX9TyNFX1Ls3c+XyYFjrGMcztKB",
      "include_colab_link": true
    },
    "kernelspec": {
      "name": "python3",
      "display_name": "Python 3"
    },
    "language_info": {
      "name": "python"
    }
  },
  "cells": [
    {
      "cell_type": "markdown",
      "metadata": {
        "id": "view-in-github",
        "colab_type": "text"
      },
      "source": [
        "<a href=\"https://colab.research.google.com/github/Furianoite/Aula-de-Progama-o-FPB/blob/main/Aula_3.ipynb\" target=\"_parent\"><img src=\"https://colab.research.google.com/assets/colab-badge.svg\" alt=\"Open In Colab\"/></a>"
      ]
    },
    {
      "cell_type": "code",
      "execution_count": 2,
      "metadata": {
        "colab": {
          "base_uri": "https://localhost:8080/"
        },
        "id": "Zsc-ylS7kylm",
        "outputId": "05360cb0-2655-450a-d9d5-facc8ac8596e"
      },
      "outputs": [
        {
          "output_type": "stream",
          "name": "stdout",
          "text": [
            "Meu nome é ha ha ha: 157\n"
          ]
        }
      ],
      "source": [
        "nome = 157\n",
        "print('Meu nome é ha ha ha:', nome)"
      ]
    },
    {
      "cell_type": "code",
      "source": [
        "a = 90 \n",
        "b = 42\n",
        "\n",
        "print(a+b)\n",
        "print(a-b)\n",
        "print(a*b)\n",
        "print(a/b)\n",
        "print(a%b) #O resto da operação\n"
      ],
      "metadata": {
        "id": "SZf3HlZRmrNs"
      },
      "execution_count": null,
      "outputs": []
    },
    {
      "cell_type": "code",
      "source": [
        "nome = input('Digite seu nome') #Strings\n",
        "print('Olá, '+nome)\n"
      ],
      "metadata": {
        "colab": {
          "base_uri": "https://localhost:8080/"
        },
        "id": "bnqCWrqFnRty",
        "outputId": "f19981e8-ef83-4b9d-8fb2-2169aa382c60"
      },
      "execution_count": 12,
      "outputs": [
        {
          "output_type": "stream",
          "name": "stdout",
          "text": [
            "Digite seu nomeCaio\n",
            "Olá, Caio\n"
          ]
        }
      ]
    },
    {
      "cell_type": "code",
      "source": [
        "#Código para dizer a idade da pessoa\n",
        "anoNascim = int(input('Digite o ano de nascimento!'))\n",
        "print('Sua idade é: ',2023-int(anoNascim))"
      ],
      "metadata": {
        "colab": {
          "base_uri": "https://localhost:8080/"
        },
        "id": "zuC_8B4Zn1_6",
        "outputId": "8096ae01-c0e7-46f7-fcbb-18a44726dd75"
      },
      "execution_count": 11,
      "outputs": [
        {
          "output_type": "stream",
          "name": "stdout",
          "text": [
            "Digite o ano de nascimento!2002\n",
            "Sua idade é:  21\n"
          ]
        }
      ]
    },
    {
      "cell_type": "code",
      "source": [
        "#Solicite a altura e o peso de alguém, e retorno o IMC \n",
        "#IMC = peso / altura**2\n",
        "peso = float(input('Digite o peso! '))\n",
        "altura = float(input('digite a altura! '))\n",
        "imc = peso/altura**2\n",
        "print('O IMC é:', imc)"
      ],
      "metadata": {
        "colab": {
          "base_uri": "https://localhost:8080/"
        },
        "id": "6zHMxUBwpI4U",
        "outputId": "ce25f92d-45d2-433a-e07c-0690755f9d95"
      },
      "execution_count": 17,
      "outputs": [
        {
          "output_type": "stream",
          "name": "stdout",
          "text": [
            "Digite o peso! 75\n",
            "digite a altura! 1.83\n",
            "O IMC é: 22.395413419331717\n"
          ]
        }
      ]
    },
    {
      "cell_type": "code",
      "source": [
        "#verificações lógicas\n",
        "a = 45\n",
        "b = 33\n",
        "print(a > b)\n",
        "print(a )"
      ],
      "metadata": {
        "id": "7vgWaxeDu68B"
      },
      "execution_count": null,
      "outputs": []
    },
    {
      "cell_type": "code",
      "source": [
        "#Verificar se um número é par\n",
        "num = int(input('Digite um número: '))\n",
        "if(num%2 == 0):\n",
        "  print('O número é par')\n",
        "else:\n",
        "  print('O número é impar')"
      ],
      "metadata": {
        "colab": {
          "base_uri": "https://localhost:8080/"
        },
        "id": "JkYyb1afsQXk",
        "outputId": "c04a4e40-5c5e-466a-a677-59e2335efb72"
      },
      "execution_count": 27,
      "outputs": [
        {
          "output_type": "stream",
          "name": "stdout",
          "text": [
            "Digite um número: 89\n",
            "O número é impar\n"
          ]
        }
      ]
    },
    {
      "cell_type": "code",
      "source": [
        "#Em um campeonato de MMA, tem três categorias por peso\n",
        "#galo até 70kg\n",
        "#medio até 80kg\n",
        "#medio pesado até 90kg\n",
        "#pesado mais de 90kg\n",
        "peso = float(input('Digite o peso do atleta: '))\n",
        "if(peso <= 70):\n",
        " print('Galo')\n",
        "elif(peso <= 80):\n",
        "  print('Médio')\n",
        "elif(peso <= 90): \n",
        "  print('Médio Pesado')\n",
        "else:\n",
        "  print('Pesado')"
      ],
      "metadata": {
        "colab": {
          "base_uri": "https://localhost:8080/"
        },
        "id": "u-QO7HOYySfR",
        "outputId": "ac1f87d5-f306-42ad-e0f5-c83bc5bfd30c"
      },
      "execution_count": 39,
      "outputs": [
        {
          "output_type": "stream",
          "name": "stdout",
          "text": [
            "Digite o peso do atleta: 90\n",
            "Médio Pesado\n"
          ]
        }
      ]
    },
    {
      "cell_type": "markdown",
      "source": [],
      "metadata": {
        "id": "aQFbBIyW6qO6"
      }
    },
    {
      "cell_type": "code",
      "source": [
        "peso = float(input('Digite o peso: '))\n",
        "altura = float(input('digite a altura! '))\n",
        "imc = peso/altura**2\n",
        "if(imc < 18.5):\n",
        " print('abaixo do peso normal')\n",
        "elif(imc < 24.9):\n",
        " print('Peso normal')\n",
        "elif(imc < 29.9):\n",
        " print('Excesso de peso')\n",
        "elif(imc < 34.9):\n",
        " print('Obesidade classe I')\n",
        "elif(imc < 39.9):\n",
        " print('Obesidade classe II')\n",
        "else:\n",
        " print('Obesidade classe III')\n",
        "print('O IMC do paciente é: ', round(imc,2))"
      ],
      "metadata": {
        "colab": {
          "base_uri": "https://localhost:8080/"
        },
        "id": "e1-prcio14t7",
        "outputId": "f5f2e370-58c4-4cff-f2dd-930cdfb2cff2"
      },
      "execution_count": 53,
      "outputs": [
        {
          "output_type": "stream",
          "name": "stdout",
          "text": [
            "Digite o peso: 77\n",
            "digite a altura! 1.83\n",
            "Peso normal\n",
            "O IMC do paciente é:  22.99\n"
          ]
        }
      ]
    }
  ]
}
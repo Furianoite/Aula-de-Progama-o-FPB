{
  "nbformat": 4,
  "nbformat_minor": 0,
  "metadata": {
    "colab": {
      "provenance": [],
      "authorship_tag": "ABX9TyN6uVxY2pIFNRJA9lKgOQTK",
      "include_colab_link": true
    },
    "kernelspec": {
      "name": "python3",
      "display_name": "Python 3"
    },
    "language_info": {
      "name": "python"
    }
  },
  "cells": [
    {
      "cell_type": "markdown",
      "metadata": {
        "id": "view-in-github",
        "colab_type": "text"
      },
      "source": [
        "<a href=\"https://colab.research.google.com/github/Furianoite/Aula-de-Progama-o-FPB/blob/main/Untitled5.ipynb\" target=\"_parent\"><img src=\"https://colab.research.google.com/assets/colab-badge.svg\" alt=\"Open In Colab\"/></a>"
      ]
    },
    {
      "cell_type": "code",
      "execution_count": 2,
      "metadata": {
        "colab": {
          "base_uri": "https://localhost:8080/"
        },
        "id": "A9FY2x2d_4mL",
        "outputId": "e4cc3d0a-51c1-494f-e76c-561d46028309"
      },
      "outputs": [
        {
          "output_type": "execute_result",
          "data": {
            "text/plain": [
              "{'Ostervaldo': 'oster@email.com',\n",
              " 'Maristênio': 'marist@email.com',\n",
              " 'Leroiane': 'lero@email.com',\n",
              " 'Jozezin': ['zezin@exemplo.com', 'zemane@exemplo.com']}"
            ]
          },
          "metadata": {},
          "execution_count": 2
        }
      ],
      "source": [
        "#Criando dicionários \n",
        "#Os dicionários são definidos utilizando chaves {}\n",
        "#E os pares chaves-valor são separados por dois pontos ()\n",
        " \n",
        "#Contatos\n",
        "contatos = {\n",
        "    'Ostervaldo' : 'oster@email.com',\n",
        "    'Maristênio' : 'marist@email.com',\n",
        "    'Leroiane' : 'lero@email.com',\n",
        "    'Jozezin' : ['zezin@exemplo.com', 'zemane@exemplo.com']\n",
        "}\n",
        "contatos"
      ]
    },
    {
      "cell_type": "code",
      "source": [
        "#Acessando valores\n",
        "contatos ['Jozezin']"
      ],
      "metadata": {
        "colab": {
          "base_uri": "https://localhost:8080/"
        },
        "id": "yG--TIBvEWRp",
        "outputId": "ef1462ca-3334-4ec4-cb4b-9e780ab12e94"
      },
      "execution_count": 3,
      "outputs": [
        {
          "output_type": "execute_result",
          "data": {
            "text/plain": [
              "['zezin@exemplo.com', 'zemane@exemplo.com']"
            ]
          },
          "metadata": {},
          "execution_count": 3
        }
      ]
    },
    {
      "cell_type": "code",
      "source": [
        "#Para evitar erros ao buscar por possiveis valores inexistentes\n",
        "contatos.get('Rebeca', 'Contato inexistente')\n"
      ],
      "metadata": {
        "colab": {
          "base_uri": "https://localhost:8080/",
          "height": 35
        },
        "id": "9ZyBqW0NErhY",
        "outputId": "98f59259-85c8-4e7c-c2e9-799808ef52e5"
      },
      "execution_count": 9,
      "outputs": [
        {
          "output_type": "execute_result",
          "data": {
            "text/plain": [
              "'Contato inexistente'"
            ],
            "application/vnd.google.colaboratory.intrinsic+json": {
              "type": "string"
            }
          },
          "metadata": {},
          "execution_count": 9
        }
      ]
    },
    {
      "cell_type": "markdown",
      "source": [
        "#CRUD\n",
        "#C - Creade\n",
        "#R - Recovery\n",
        "#U - Update\n",
        "#D - Delete"
      ],
      "metadata": {
        "id": "-hlHiKTgF5VW"
      }
    },
    {
      "cell_type": "code",
      "source": [
        "#Criar \n",
        "lutas = {}\n",
        "lutas"
      ],
      "metadata": {
        "id": "IQXzx6vaGKOl"
      },
      "execution_count": null,
      "outputs": []
    },
    {
      "cell_type": "code",
      "source": [
        "#Criar \n",
        "luchadores = [\n",
        "    {\n",
        "      \"nome\":'Israel Adesaya',\n",
        "      \"categoria\": 'Meio médio',\n",
        "      \"envergadura\": 2\n",
        "      \n",
        "    },\n",
        "    {\n",
        "      \"nome\": 'Luana Pinheiro',\n",
        "      \"categoria\" : \"Palha\",\n",
        "      \"envergadura\": 1.6\n",
        "    }\n",
        "]\n",
        "luchadores"
      ],
      "metadata": {
        "colab": {
          "base_uri": "https://localhost:8080/"
        },
        "id": "pBGsO5_XGlUm",
        "outputId": "bb7458f7-1734-4162-a616-0117b14dda54"
      },
      "execution_count": 12,
      "outputs": [
        {
          "output_type": "execute_result",
          "data": {
            "text/plain": [
              "[{'nome': 'Israel Adesaya', 'categoria': 'Meio médio', 'envergadura': 2},\n",
              " {'nome': 'Luana Pinheiro', 'categoria': 'Palha', 'envergadura': 1.6}]"
            ]
          },
          "metadata": {},
          "execution_count": 12
        }
      ]
    },
    {
      "cell_type": "code",
      "source": [
        "#Criar\n",
        "contatos['Evilásio'] = 'evi@exemplo.com'\n",
        "\n",
        "contatos"
      ],
      "metadata": {
        "colab": {
          "base_uri": "https://localhost:8080/"
        },
        "id": "hDMFseP2ILBL",
        "outputId": "89321a63-c4e7-4f49-ad0e-bce42f8b08be"
      },
      "execution_count": 13,
      "outputs": [
        {
          "output_type": "execute_result",
          "data": {
            "text/plain": [
              "{'Ostervaldo': 'oster@email.com',\n",
              " 'Maristênio': 'marist@email.com',\n",
              " 'Leroiane': 'lero@email.com',\n",
              " 'Jozezin': ['zezin@exemplo.com', 'zemane@exemplo.com'],\n",
              " 'Evilásio': 'evi@exemplo.com'}"
            ]
          },
          "metadata": {},
          "execution_count": 13
        }
      ]
    },
    {
      "cell_type": "code",
      "source": [
        "#Adição por concatenação\n",
        "contacts= {'rivaldo' : 'riva@emailzemplo.com',\n",
        "     'lorival' : 'loriv@exemplo',\n",
        "     'fabiano' : 'fabio@exml.com'}\n",
        "\n",
        "contatos.update(contacts)\n",
        "contatos"
      ],
      "metadata": {
        "colab": {
          "base_uri": "https://localhost:8080/"
        },
        "id": "dbvVlIjgIrdi",
        "outputId": "63818fa1-aad0-4765-c7ab-5bfacf3d9699"
      },
      "execution_count": 16,
      "outputs": [
        {
          "output_type": "execute_result",
          "data": {
            "text/plain": [
              "{'Ostervaldo': 'oster@email.com',\n",
              " 'Maristênio': 'marist@email.com',\n",
              " 'Leroiane': 'lero@email.com',\n",
              " 'Jozezin': ['zezin@exemplo.com', 'zemane@exemplo.com'],\n",
              " 'Evilásio': 'evi@exemplo.com',\n",
              " 'rivaldo': 'riva@emailzemplo.com',\n",
              " 'lorival': 'loriv@exemplo',\n",
              " 'fabiano': 'fabio@exml.com'}"
            ]
          },
          "metadata": {},
          "execution_count": 16
        }
      ]
    },
    {
      "cell_type": "code",
      "source": [
        "#Modifiacar (só inserir um novo valor á chave correspodente)\n",
        "contatos['fabiano'] = 'fbss@exemplo.com'\n",
        "\n",
        "contatos"
      ],
      "metadata": {
        "colab": {
          "base_uri": "https://localhost:8080/"
        },
        "id": "wJkkk9c8KN-J",
        "outputId": "3d0740dd-6aa4-41ff-e76c-54bd0916fb86"
      },
      "execution_count": 18,
      "outputs": [
        {
          "output_type": "execute_result",
          "data": {
            "text/plain": [
              "{'Ostervaldo': 'oster@email.com',\n",
              " 'Maristênio': 'marist@email.com',\n",
              " 'Leroiane': 'lero@email.com',\n",
              " 'Jozezin': ['zezin@exemplo.com', 'zemane@exemplo.com'],\n",
              " 'Evilásio': 'evi@exemplo.com',\n",
              " 'rivaldo': 'riva@emailzemplo.com',\n",
              " 'lorival': 'loriv@exemplo',\n",
              " 'fabiano': 'fbss@exemplo.com',\n",
              " 'Fabiano': 'fbss@exemplo.com'}"
            ]
          },
          "metadata": {},
          "execution_count": 18
        }
      ]
    },
    {
      "cell_type": "code",
      "source": [],
      "metadata": {
        "id": "dGAot38QL8OR"
      },
      "execution_count": null,
      "outputs": []
    },
    {
      "cell_type": "code",
      "source": [
        "#Remoção del\n",
        "del contatos['rivaldo']\n",
        "\n",
        "contatos"
      ],
      "metadata": {
        "colab": {
          "base_uri": "https://localhost:8080/"
        },
        "id": "mf5uViIWLLQ-",
        "outputId": "4007de54-9754-451f-d612-9dcea3e78743"
      },
      "execution_count": 19,
      "outputs": [
        {
          "output_type": "execute_result",
          "data": {
            "text/plain": [
              "{'Ostervaldo': 'oster@email.com',\n",
              " 'Maristênio': 'marist@email.com',\n",
              " 'Leroiane': 'lero@email.com',\n",
              " 'Jozezin': ['zezin@exemplo.com', 'zemane@exemplo.com'],\n",
              " 'Evilásio': 'evi@exemplo.com',\n",
              " 'lorival': 'loriv@exemplo',\n",
              " 'fabiano': 'fbss@exemplo.com',\n",
              " 'Fabiano': 'fbss@exemplo.com'}"
            ]
          },
          "metadata": {},
          "execution_count": 19
        }
      ]
    },
    {
      "cell_type": "code",
      "source": [
        "contatos['Jozezin'].append('zex@zeh.com')"
      ],
      "metadata": {
        "id": "g8oJkXwHLgcS"
      },
      "execution_count": 20,
      "outputs": []
    },
    {
      "cell_type": "code",
      "source": [
        "contatos.items()"
      ],
      "metadata": {
        "colab": {
          "base_uri": "https://localhost:8080/"
        },
        "id": "wgaj9AYpL-dy",
        "outputId": "c988ba83-60e8-45bd-ccc0-8bf5dde0f12d"
      },
      "execution_count": 21,
      "outputs": [
        {
          "output_type": "execute_result",
          "data": {
            "text/plain": [
              "dict_items([('Ostervaldo', 'oster@email.com'), ('Maristênio', 'marist@email.com'), ('Leroiane', 'lero@email.com'), ('Jozezin', ['zezin@exemplo.com', 'zemane@exemplo.com', 'zex@zeh.com']), ('Evilásio', 'evi@exemplo.com'), ('lorival', 'loriv@exemplo'), ('fabiano', 'fbss@exemplo.com'), ('Fabiano', 'fbss@exemplo.com')])"
            ]
          },
          "metadata": {},
          "execution_count": 21
        }
      ]
    },
    {
      "cell_type": "code",
      "source": [
        "#Iterando sobre dicioários\n",
        "for nome, email in contatos,items():\n",
        "  print(f'o Email {email} pertence a {nome}')"
      ],
      "metadata": {
        "id": "o9F6bc-NMk4Q"
      },
      "execution_count": null,
      "outputs": []
    },
    {
      "cell_type": "code",
      "source": [
        "#Métodos úteis keys(), valeus()\n",
        "contatos.keys()"
      ],
      "metadata": {
        "colab": {
          "base_uri": "https://localhost:8080/"
        },
        "id": "mjnYZ5aDPud5",
        "outputId": "e0740f61-bb57-45d8-cd19-833e6ad328cb"
      },
      "execution_count": 25,
      "outputs": [
        {
          "output_type": "execute_result",
          "data": {
            "text/plain": [
              "dict_keys(['Ostervaldo', 'Maristênio', 'Leroiane', 'Jozezin', 'Evilásio', 'lorival', 'fabiano', 'Fabiano'])"
            ]
          },
          "metadata": {},
          "execution_count": 25
        }
      ]
    },
    {
      "cell_type": "code",
      "source": [
        "nomes = list(contatos.keys())"
      ],
      "metadata": {
        "id": "e2pI04MwP_-S"
      },
      "execution_count": 24,
      "outputs": []
    },
    {
      "cell_type": "code",
      "source": [
        "contatos.values()"
      ],
      "metadata": {
        "id": "rK24QHnDQc9k"
      },
      "execution_count": null,
      "outputs": []
    },
    {
      "cell_type": "code",
      "source": [
        "#Valores máximos, mínimos e ordenações\n",
        "curso = {'Alice': 8.5, 'Tiago':7.0, 'Chico': 6.5, 'Nubia': 10}\n",
        "#Quem obteve a maior nota?\n",
        "max(curso, key = curso.get)"
      ],
      "metadata": {
        "colab": {
          "base_uri": "https://localhost:8080/",
          "height": 35
        },
        "id": "xwfq44G3Qkp6",
        "outputId": "f36d26fa-4853-45c2-826e-1e6564b6a798"
      },
      "execution_count": 28,
      "outputs": [
        {
          "output_type": "execute_result",
          "data": {
            "text/plain": [
              "'Nubia'"
            ],
            "application/vnd.google.colaboratory.intrinsic+json": {
              "type": "string"
            }
          },
          "metadata": {},
          "execution_count": 28
        }
      ]
    },
    {
      "cell_type": "code",
      "source": [
        "#E a menor nota?\n",
        "min(curso, key = curso.get)"
      ],
      "metadata": {
        "colab": {
          "base_uri": "https://localhost:8080/",
          "height": 35
        },
        "id": "1QirmBFgRL_6",
        "outputId": "60537f9b-9519-49f5-cb70-8a3f4cff9b25"
      },
      "execution_count": 27,
      "outputs": [
        {
          "output_type": "execute_result",
          "data": {
            "text/plain": [
              "'Chico'"
            ],
            "application/vnd.google.colaboratory.intrinsic+json": {
              "type": "string"
            }
          },
          "metadata": {},
          "execution_count": 27
        }
      ]
    },
    {
      "cell_type": "code",
      "source": [
        "  #Ordene pela nota da menor para a maior\n",
        "  sorted(curso, key = curso.get)"
      ],
      "metadata": {
        "colab": {
          "base_uri": "https://localhost:8080/"
        },
        "id": "-cxi1Qu-SxTn",
        "outputId": "97ac6dc3-3ef2-4aca-a343-c77e06f60d20"
      },
      "execution_count": 31,
      "outputs": [
        {
          "output_type": "execute_result",
          "data": {
            "text/plain": [
              "['Chico', 'Tiago', 'Alice', 'Nubia']"
            ]
          },
          "metadata": {},
          "execution_count": 31
        }
      ]
    },
    {
      "cell_type": "code",
      "source": [
        "#Ordene pela nota da maior para menor\n",
        "sorted(curso, key = curso.get, reverse=True)"
      ],
      "metadata": {
        "colab": {
          "base_uri": "https://localhost:8080/"
        },
        "id": "fLaoqYIHTgcC",
        "outputId": "ddab820c-2a2c-412a-aa57-e0122f0ff0e8"
      },
      "execution_count": 30,
      "outputs": [
        {
          "output_type": "execute_result",
          "data": {
            "text/plain": [
              "['Nubia', 'Alice', 'Tiago', 'Chico']"
            ]
          },
          "metadata": {},
          "execution_count": 30
        }
      ]
    },
    {
      "cell_type": "code",
      "source": [],
      "metadata": {
        "id": "hNeDFuRBUTD6"
      },
      "execution_count": null,
      "outputs": []
    }
  ]
}
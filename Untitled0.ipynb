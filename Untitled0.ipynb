{
  "nbformat": 4,
  "nbformat_minor": 0,
  "metadata": {
    "colab": {
      "provenance": [],
      "authorship_tag": "ABX9TyP5ONnd10TL62VW4S5MC5y3",
      "include_colab_link": true
    },
    "kernelspec": {
      "name": "python3",
      "display_name": "Python 3"
    },
    "language_info": {
      "name": "python"
    }
  },
  "cells": [
    {
      "cell_type": "markdown",
      "metadata": {
        "id": "view-in-github",
        "colab_type": "text"
      },
      "source": [
        "<a href=\"https://colab.research.google.com/github/Furianoite/Aula-de-Progama-o-FPB/blob/main/Untitled0.ipynb\" target=\"_parent\"><img src=\"https://colab.research.google.com/assets/colab-badge.svg\" alt=\"Open In Colab\"/></a>"
      ]
    },
    {
      "cell_type": "code",
      "execution_count": 1,
      "metadata": {
        "colab": {
          "base_uri": "https://localhost:8080/"
        },
        "id": "uD_l_bmOnbmc",
        "outputId": "9fb84539-d1f0-407d-9fb1-d505632620fb"
      },
      "outputs": [
        {
          "output_type": "stream",
          "name": "stdout",
          "text": [
            "True\n",
            "True\n",
            "False\n",
            "True\n",
            "False\n",
            "True\n"
          ]
        }
      ],
      "source": [
        "#Tipos booleanos\n",
        "print(100 == (50+50)) #igualdade\n",
        "print(100 >= (50+50))\n",
        "print(100 > (50+50))\n",
        "print(100 <= (50+50))\n",
        "print(100 != (50+50))\n",
        "print(100 != 99)"
      ]
    },
    {
      "cell_type": "code",
      "source": [
        "# Se a idade for maior que 16, exiba: Pode tirar habilitaçâo \n",
        "idade = int(input(\"Digite a idade: \"))\n",
        "if(idade >= 16)\n",
        "   print(\"Pode tirar habilitaçâo\")\n",
        "   else: \n",
        "     print(\"Ainda não pode tirar a Carteira Nacional de Habilitação\")"
      ],
      "metadata": {
        "id": "AEhR8bm2pQpl"
      },
      "execution_count": null,
      "outputs": []
    },
    {
      "cell_type": "code",
      "source": [
        "#Se for do sexo feminino \"F\", e tiver 55 anos ou mais, pode se aposentar\n",
        "#Se for do sexo masculino \"M\", só se aposenta com 60 anos ou mais.\n",
        "sexo = \"F\"\n",
        "idade = 58\n",
        "if(sexo == \"F\" and idade >=55):\n",
        "   print(\"Pode se aposentar\")\n",
        "elif(sexo == \"M\" and idade >=60):\n",
        "   print(\"Não pode se aposentar\")\n",
        "else:\n",
        "   print(\"Ainda não pode\")\n"
      ],
      "metadata": {
        "colab": {
          "base_uri": "https://localhost:8080/"
        },
        "id": "6WXSDOINqc62",
        "outputId": "248bd5cd-6877-4823-99ca-11a098eac68c"
      },
      "execution_count": 11,
      "outputs": [
        {
          "output_type": "stream",
          "name": "stdout",
          "text": [
            "Pode se aposentar\n"
          ]
        }
      ]
    },
    {
      "cell_type": "code",
      "source": [
        "#Versão II\n",
        "sexo = input(\"Insira o sexo: m (masculino) ou f (feminino): \")\n",
        "idade = int(input(\"insira a idade \"))\n",
        "if((sexo == \"F\" and idade >=55) or (sexo == \"M\" and idade >=60)):\n",
        "   print(\"Pode se aposentar\")\n",
        "else:\n",
        "   print(\"Ainda não pode\")\n"
      ],
      "metadata": {
        "colab": {
          "base_uri": "https://localhost:8080/"
        },
        "id": "zz4fnJ6Ntc2Z",
        "outputId": "8e39657c-03bc-4076-904c-69413d5a859f"
      },
      "execution_count": 15,
      "outputs": [
        {
          "output_type": "stream",
          "name": "stdout",
          "text": [
            "Insira o sexo: m (masculino) ou f (feminino): f\n",
            "insira a idade 32\n",
            "Ainda não pode\n"
          ]
        }
      ]
    },
    {
      "cell_type": "code",
      "source": [
        "#Solicite três números A, B e C .\n",
        "#Imprima na tela se A+B é menor que  C.\n",
        "A = int(input(\"Digite o valor num: \"))\n",
        "B = int(input(\"Digite o valor de num: \"))\n",
        "C = int(input(\"Digite o valor de num: \"))\n",
        "if(A+B < C):\n",
        "  print(\"É menor\")\n",
        "else:\n",
        "  print(\"Não é menor\")\n",
        "\n",
        "\n"
      ],
      "metadata": {
        "colab": {
          "base_uri": "https://localhost:8080/"
        },
        "id": "G4Y8WT5Wv5Ip",
        "outputId": "32684206-8b6e-45c2-df8d-beef0d8fc177"
      },
      "execution_count": 20,
      "outputs": [
        {
          "output_type": "stream",
          "name": "stdout",
          "text": [
            "Digite o valor num: 76\n",
            "Digite o valor de num: 87\n",
            "Digite o valor de num: 5\n",
            "Não é menor\n"
          ]
        }
      ]
    },
    {
      "cell_type": "code",
      "source": [
        "#Escreva um algoritmo que receba 2 valores inteiros\n",
        "#E escreva na tela qual é o maior.\n",
        "A = int(input(\"Número 1: \"))\n",
        "B = int(input(\"Número 2: \"))\n",
        "if(A > B):\n",
        "  print(\"A é maior\")\n",
        "elif(B < A):\n",
        "  print(\"B é maior\")\n",
        "else:\n",
        "  print(\"Todos são iguais\")"
      ],
      "metadata": {
        "colab": {
          "base_uri": "https://localhost:8080/"
        },
        "id": "bz-kHHlRyx_p",
        "outputId": "5ab79c46-48df-43ce-bc96-5ff549285ef6"
      },
      "execution_count": 25,
      "outputs": [
        {
          "output_type": "stream",
          "name": "stdout",
          "text": [
            "Número 1: 65\n",
            "Número 2: 45\n",
            "A é maior\n"
          ]
        }
      ]
    }
  ]
}